{
 "cells": [
  {
   "cell_type": "code",
   "execution_count": 2,
   "id": "0509f60d",
   "metadata": {},
   "outputs": [],
   "source": [
    "class Contact:\n",
    "    all_contacts = []\n",
    "    def __init__(self,name,email):\n",
    "        self.name = name\n",
    "        self.email = email\n",
    "        Contact.all_contacts.append(self)\n",
    "    def __repr__(self):\n",
    "        return (\n",
    "           f\"{self.__class__.__name__}(\"\n",
    "           f\"{self.name!r}, {self.email!r}\"\n",
    "           f\")\")\n",
    "        "
   ]
  },
  {
   "cell_type": "code",
   "execution_count": 3,
   "id": "d0ac59ce",
   "metadata": {},
   "outputs": [
    {
     "data": {
      "text/plain": [
       "[Contact('Dusty', 'dusty@example.com'),\n",
       " Contact('Steve', 'steve@itmaybeahack.com')]"
      ]
     },
     "execution_count": 3,
     "metadata": {},
     "output_type": "execute_result"
    }
   ],
   "source": [
    "c_1 = Contact(\"Dusty\", \"dusty@example.com\")\n",
    "c_2 = Contact(\"Steve\", \"steve@itmaybeahack.com\")\n",
    "Contact.all_contacts"
   ]
  },
  {
   "cell_type": "code",
   "execution_count": 4,
   "id": "827451b1",
   "metadata": {},
   "outputs": [],
   "source": [
    "class Supplier(Contact):\n",
    "    \n",
    "    \n",
    "   \n",
    "\n",
    "\n",
    "    def order(self, order: \"Order\") -> None:\n",
    "        \n",
    "      \n",
    "    \n",
    "        print(\n",
    "           \"If this were a real system we would send \"\n",
    "           f\"'{order}' order to '{self.name}'\"\n",
    "       )"
   ]
  },
  {
   "cell_type": "code",
   "execution_count": 7,
   "id": "e33f1abb",
   "metadata": {},
   "outputs": [],
   "source": [
    "c = Contact(\"Some Body\", \"somebody@example.net\")\n",
    "s = Supplier(\"SupPlier\", \"supplier@example.net\")"
   ]
  },
  {
   "cell_type": "code",
   "execution_count": 8,
   "id": "f01c5341",
   "metadata": {},
   "outputs": [
    {
     "name": "stdout",
     "output_type": "stream",
     "text": [
      "Some Body somebody@example.net SupPlier supplier@example.net\n"
     ]
    }
   ],
   "source": [
    "print(c.name, c.email, s.name, s.email)"
   ]
  },
  {
   "cell_type": "code",
   "execution_count": 9,
   "id": "027d3084",
   "metadata": {},
   "outputs": [
    {
     "name": "stdout",
     "output_type": "stream",
     "text": [
      "[Contact('Dusty', 'dusty@example.com'),\n",
      " Contact('Steve', 'steve@itmaybeahack.com'),\n",
      " Contact('Some Body', 'somebody@example.net'),\n",
      " Supplier('Sup Plier', 'supplier@example.net'),\n",
      " Contact('Some Body', 'somebody@example.net'),\n",
      " Supplier('Sup Plier', 'supplier@example.net'),\n",
      " Contact('Some Body', 'somebody@example.net'),\n",
      " Supplier('SupPlier', 'supplier@example.net')]\n"
     ]
    }
   ],
   "source": [
    "from pprint import pprint\n",
    "pprint(c.all_contacts)"
   ]
  },
  {
   "cell_type": "code",
   "execution_count": 10,
   "id": "956737a1",
   "metadata": {},
   "outputs": [
    {
     "ename": "AttributeError",
     "evalue": "'Contact' object has no attribute 'order'",
     "output_type": "error",
     "traceback": [
      "\u001b[1;31m---------------------------------------------------------------------------\u001b[0m",
      "\u001b[1;31mAttributeError\u001b[0m                            Traceback (most recent call last)",
      "\u001b[1;32m~\\AppData\\Local\\Temp/ipykernel_13380/3390045606.py\u001b[0m in \u001b[0;36m<module>\u001b[1;34m\u001b[0m\n\u001b[1;32m----> 1\u001b[1;33m \u001b[0mc\u001b[0m\u001b[1;33m.\u001b[0m\u001b[0morder\u001b[0m\u001b[1;33m(\u001b[0m\u001b[1;34m\"I need pliers\"\u001b[0m\u001b[1;33m)\u001b[0m\u001b[1;33m\u001b[0m\u001b[1;33m\u001b[0m\u001b[0m\n\u001b[0m",
      "\u001b[1;31mAttributeError\u001b[0m: 'Contact' object has no attribute 'order'"
     ]
    }
   ],
   "source": [
    "c.order(\"I need pliers\")"
   ]
  },
  {
   "cell_type": "code",
   "execution_count": 11,
   "id": "4977fc49",
   "metadata": {},
   "outputs": [
    {
     "name": "stdout",
     "output_type": "stream",
     "text": [
      "If this were a real system we would send 'I need pliers' order to 'SupPlier'\n"
     ]
    }
   ],
   "source": [
    "s.order(\"I need pliers\")"
   ]
  },
  {
   "cell_type": "code",
   "execution_count": 12,
   "id": "04881a60",
   "metadata": {},
   "outputs": [],
   "source": [
    "class Friend(Contact):\n",
    "    def __init__(self, name: str, email: str, phone: str) -> None:\n",
    "        \n",
    "        super().__init__(name,email)\n",
    "        \n",
    "        self.phone = phone"
   ]
  }
 ],
 "metadata": {
  "kernelspec": {
   "display_name": "Python 3 (ipykernel)",
   "language": "python",
   "name": "python3"
  },
  "language_info": {
   "codemirror_mode": {
    "name": "ipython",
    "version": 3
   },
   "file_extension": ".py",
   "mimetype": "text/x-python",
   "name": "python",
   "nbconvert_exporter": "python",
   "pygments_lexer": "ipython3",
   "version": "3.9.7"
  }
 },
 "nbformat": 4,
 "nbformat_minor": 5
}
